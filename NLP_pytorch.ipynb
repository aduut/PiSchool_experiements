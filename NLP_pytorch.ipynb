{
  "nbformat": 4,
  "nbformat_minor": 0,
  "metadata": {
    "colab": {
      "name": "NLP_pytorch.ipynb",
      "version": "0.3.2",
      "provenance": [],
      "include_colab_link": true
    },
    "kernelspec": {
      "name": "python3",
      "display_name": "Python 3"
    },
    "accelerator": "GPU"
  },
  "cells": [
    {
      "cell_type": "markdown",
      "metadata": {
        "id": "view-in-github",
        "colab_type": "text"
      },
      "source": [
        "<a href=\"https://colab.research.google.com/github/aduut/PiSchool_experiments/blob/master/NLP_pytorch.ipynb\" target=\"_parent\"><img src=\"https://colab.research.google.com/assets/colab-badge.svg\" alt=\"Open In Colab\"/></a>"
      ]
    },
    {
      "cell_type": "code",
      "metadata": {
        "id": "BmYE675qCr2N",
        "colab_type": "code",
        "colab": {
          "base_uri": "https://localhost:8080/",
          "height": 214
        },
        "outputId": "3edfc796-f89d-4b8d-aec3-5b553bf1f9f3"
      },
      "source": [
        "!pip install tensorboard"
      ],
      "execution_count": 3,
      "outputs": [
        {
          "output_type": "stream",
          "text": [
            "Requirement already satisfied: tensorboard in /usr/local/lib/python3.6/dist-packages (1.13.1)\n",
            "Requirement already satisfied: werkzeug>=0.11.15 in /usr/local/lib/python3.6/dist-packages (from tensorboard) (0.15.4)\n",
            "Requirement already satisfied: numpy>=1.12.0 in /usr/local/lib/python3.6/dist-packages (from tensorboard) (1.16.3)\n",
            "Requirement already satisfied: wheel>=0.26; python_version >= \"3\" in /usr/local/lib/python3.6/dist-packages (from tensorboard) (0.33.4)\n",
            "Requirement already satisfied: absl-py>=0.4 in /usr/local/lib/python3.6/dist-packages (from tensorboard) (0.7.1)\n",
            "Requirement already satisfied: markdown>=2.6.8 in /usr/local/lib/python3.6/dist-packages (from tensorboard) (3.1)\n",
            "Requirement already satisfied: six>=1.10.0 in /usr/local/lib/python3.6/dist-packages (from tensorboard) (1.12.0)\n",
            "Requirement already satisfied: protobuf>=3.6.0 in /usr/local/lib/python3.6/dist-packages (from tensorboard) (3.7.1)\n",
            "Requirement already satisfied: grpcio>=1.6.3 in /usr/local/lib/python3.6/dist-packages (from tensorboard) (1.15.0)\n",
            "Requirement already satisfied: setuptools>=36 in /usr/local/lib/python3.6/dist-packages (from markdown>=2.6.8->tensorboard) (41.0.1)\n"
          ],
          "name": "stdout"
        }
      ]
    },
    {
      "cell_type": "code",
      "metadata": {
        "id": "H3bJauOH8Bz_",
        "colab_type": "code",
        "colab": {}
      },
      "source": [
        "import torch\n",
        "import matplotlib.pyplot as plt\n",
        "import numpy as np\n",
        "import pandas as pd\n",
        "import tensorboard"
      ],
      "execution_count": 0,
      "outputs": []
    },
    {
      "cell_type": "code",
      "metadata": {
        "id": "qx6MWcBQ8GU2",
        "colab_type": "code",
        "outputId": "2eb96c11-8ee3-4853-97f6-5fa29d6c55e0",
        "colab": {
          "base_uri": "https://localhost:8080/",
          "height": 35
        }
      },
      "source": [
        "!nvidia-smi -L"
      ],
      "execution_count": 5,
      "outputs": [
        {
          "output_type": "stream",
          "text": [
            "GPU 0: Tesla T4 (UUID: GPU-a869d80c-c4a7-26a6-ecaf-124b54fbeb74)\n"
          ],
          "name": "stdout"
        }
      ]
    },
    {
      "cell_type": "code",
      "metadata": {
        "id": "IMQedmOk8eeH",
        "colab_type": "code",
        "outputId": "07a08368-348b-4b7e-e285-046d4e8db1dc",
        "colab": {
          "base_uri": "https://localhost:8080/",
          "height": 35
        }
      },
      "source": [
        "torch.cuda.is_available()"
      ],
      "execution_count": 6,
      "outputs": [
        {
          "output_type": "execute_result",
          "data": {
            "text/plain": [
              "True"
            ]
          },
          "metadata": {
            "tags": []
          },
          "execution_count": 6
        }
      ]
    },
    {
      "cell_type": "code",
      "metadata": {
        "id": "0HLqi62i9v21",
        "colab_type": "code",
        "colab": {
          "base_uri": "https://localhost:8080/",
          "height": 70
        },
        "outputId": "b8fa88ba-3cda-40bb-b8bd-f0b2ceb95e13"
      },
      "source": [
        "# Create a 2D tensor \n",
        "_tensor = torch.rand((3, 3))\n",
        "print(_tensor)"
      ],
      "execution_count": 16,
      "outputs": [
        {
          "output_type": "stream",
          "text": [
            "tensor([[0.4046, 0.8472, 0.2618],\n",
            "        [0.4882, 0.9031, 0.9327],\n",
            "        [0.2043, 0.8261, 0.3792]])\n"
          ],
          "name": "stdout"
        }
      ]
    },
    {
      "cell_type": "code",
      "metadata": {
        "id": "4E2H7gAK-ihm",
        "colab_type": "code",
        "outputId": "5f9e1acd-1299-4e26-b99b-c5d54c2aee4f",
        "colab": {
          "base_uri": "https://localhost:8080/",
          "height": 35
        }
      },
      "source": [
        "_tensor.shape"
      ],
      "execution_count": 9,
      "outputs": [
        {
          "output_type": "execute_result",
          "data": {
            "text/plain": [
              "torch.Size([3, 3])"
            ]
          },
          "metadata": {
            "tags": []
          },
          "execution_count": 9
        }
      ]
    },
    {
      "cell_type": "code",
      "metadata": {
        "id": "ko7S81ce-kGg",
        "colab_type": "code",
        "colab": {}
      },
      "source": [
        "_ten = torch.rand(((2, 1)))"
      ],
      "execution_count": 0,
      "outputs": []
    },
    {
      "cell_type": "code",
      "metadata": {
        "id": "Pc1UIeKu-5IH",
        "colab_type": "code",
        "outputId": "80192590-9497-4f99-e606-d7f42b083876",
        "colab": {
          "base_uri": "https://localhost:8080/",
          "height": 35
        }
      },
      "source": [
        "device = torch.device('cuda' if torch.cuda.is_available() else 'cpu')\n",
        "print(device)"
      ],
      "execution_count": 0,
      "outputs": [
        {
          "output_type": "stream",
          "text": [
            "cuda\n"
          ],
          "name": "stdout"
        }
      ]
    },
    {
      "cell_type": "code",
      "metadata": {
        "id": "wcYEyppJ-6fS",
        "colab_type": "code",
        "outputId": "5ec28b29-8d69-47ff-dc22-8167e3d454df",
        "colab": {
          "base_uri": "https://localhost:8080/",
          "height": 35
        }
      },
      "source": [
        "_tensor[0], _tensor[1]"
      ],
      "execution_count": 0,
      "outputs": [
        {
          "output_type": "execute_result",
          "data": {
            "text/plain": [
              "(tensor([0.7475, 0.6949]), tensor([0.1548, 0.0712]))"
            ]
          },
          "metadata": {
            "tags": []
          },
          "execution_count": 19
        }
      ]
    },
    {
      "cell_type": "code",
      "metadata": {
        "id": "g8_K3grf_mxM",
        "colab_type": "code",
        "outputId": "93d983a1-651a-4c15-e32a-3624750700f4",
        "colab": {
          "base_uri": "https://localhost:8080/",
          "height": 35
        }
      },
      "source": [
        "_tensor.unsqueeze(0).shape"
      ],
      "execution_count": 22,
      "outputs": [
        {
          "output_type": "execute_result",
          "data": {
            "text/plain": [
              "torch.Size([1, 3, 3])"
            ]
          },
          "metadata": {
            "tags": []
          },
          "execution_count": 22
        }
      ]
    },
    {
      "cell_type": "code",
      "metadata": {
        "id": "MbF7YzSmAGGe",
        "colab_type": "code",
        "colab": {
          "base_uri": "https://localhost:8080/",
          "height": 35
        },
        "outputId": "f8219423-0e96-44cf-82d3-0c0e9af2db60"
      },
      "source": [
        "_tensor.shape"
      ],
      "execution_count": 14,
      "outputs": [
        {
          "output_type": "execute_result",
          "data": {
            "text/plain": [
              "torch.Size([3, 3])"
            ]
          },
          "metadata": {
            "tags": []
          },
          "execution_count": 14
        }
      ]
    },
    {
      "cell_type": "code",
      "metadata": {
        "id": "DQn8AQmSDQEM",
        "colab_type": "code",
        "colab": {}
      },
      "source": [
        "_extensor = torch.unsqueeze(_tensor, 0)"
      ],
      "execution_count": 0,
      "outputs": []
    },
    {
      "cell_type": "code",
      "metadata": {
        "id": "ivlIAAyZEvEP",
        "colab_type": "code",
        "colab": {
          "base_uri": "https://localhost:8080/",
          "height": 35
        },
        "outputId": "c7a28c59-d99b-4221-c28b-7977e8651036"
      },
      "source": [
        "torch.unsqueeze(_tensor, 1).shape"
      ],
      "execution_count": 20,
      "outputs": [
        {
          "output_type": "execute_result",
          "data": {
            "text/plain": [
              "torch.Size([3, 1, 3])"
            ]
          },
          "metadata": {
            "tags": []
          },
          "execution_count": 20
        }
      ]
    },
    {
      "cell_type": "code",
      "metadata": {
        "id": "7yARh54-E5o7",
        "colab_type": "code",
        "colab": {
          "base_uri": "https://localhost:8080/",
          "height": 35
        },
        "outputId": "4253dbe2-d6fb-4088-d59b-2d5684a34b3e"
      },
      "source": [
        "torch.unsqueeze(_tensor, -1).shape"
      ],
      "execution_count": 23,
      "outputs": [
        {
          "output_type": "execute_result",
          "data": {
            "text/plain": [
              "torch.Size([3, 3])"
            ]
          },
          "metadata": {
            "tags": []
          },
          "execution_count": 23
        }
      ]
    },
    {
      "cell_type": "code",
      "metadata": {
        "id": "ZNvKaX2nFQaz",
        "colab_type": "code",
        "colab": {
          "base_uri": "https://localhost:8080/",
          "height": 35
        },
        "outputId": "1cec8044-d496-4ffa-aada-569b8c45eb8a"
      },
      "source": [
        "_extensor.shape"
      ],
      "execution_count": 27,
      "outputs": [
        {
          "output_type": "execute_result",
          "data": {
            "text/plain": [
              "torch.Size([1, 3, 3])"
            ]
          },
          "metadata": {
            "tags": []
          },
          "execution_count": 27
        }
      ]
    },
    {
      "cell_type": "code",
      "metadata": {
        "id": "y-9cB8g8Fn1f",
        "colab_type": "code",
        "colab": {}
      },
      "source": [
        "__exxt = _extensor.unsqueeze(-0)"
      ],
      "execution_count": 0,
      "outputs": []
    },
    {
      "cell_type": "code",
      "metadata": {
        "id": "7Ijjd5b3F7sl",
        "colab_type": "code",
        "colab": {
          "base_uri": "https://localhost:8080/",
          "height": 35
        },
        "outputId": "618904d6-e709-43df-a2bc-70806854e44c"
      },
      "source": [
        "__exxt.shape"
      ],
      "execution_count": 30,
      "outputs": [
        {
          "output_type": "execute_result",
          "data": {
            "text/plain": [
              "torch.Size([1, 1, 3, 3])"
            ]
          },
          "metadata": {
            "tags": []
          },
          "execution_count": 30
        }
      ]
    },
    {
      "cell_type": "code",
      "metadata": {
        "id": "tKk5Ro--GDXW",
        "colab_type": "code",
        "colab": {
          "base_uri": "https://localhost:8080/",
          "height": 35
        },
        "outputId": "a86b96b3-f323-4672-994f-298776ea36ef"
      },
      "source": [
        "__exxt.unsqueeze(-1)"
      ],
      "execution_count": 32,
      "outputs": [
        {
          "output_type": "execute_result",
          "data": {
            "text/plain": [
              "torch.Size([1, 1, 3, 3, 1])"
            ]
          },
          "metadata": {
            "tags": []
          },
          "execution_count": 32
        }
      ]
    },
    {
      "cell_type": "code",
      "metadata": {
        "id": "qcZwIVK9GMHz",
        "colab_type": "code",
        "colab": {
          "base_uri": "https://localhost:8080/",
          "height": 35
        },
        "outputId": "59810ae4-e2c7-4359-e528-7b98af37309f"
      },
      "source": [
        "__exxt.dim()"
      ],
      "execution_count": 35,
      "outputs": [
        {
          "output_type": "execute_result",
          "data": {
            "text/plain": [
              "4"
            ]
          },
          "metadata": {
            "tags": []
          },
          "execution_count": 35
        }
      ]
    },
    {
      "cell_type": "code",
      "metadata": {
        "id": "Px2X_AAuGqJ_",
        "colab_type": "code",
        "colab": {
          "base_uri": "https://localhost:8080/",
          "height": 35
        },
        "outputId": "3d56a95e-7894-42d3-931f-93749f1e45d2"
      },
      "source": [
        "_extensor.dim()"
      ],
      "execution_count": 37,
      "outputs": [
        {
          "output_type": "execute_result",
          "data": {
            "text/plain": [
              "3"
            ]
          },
          "metadata": {
            "tags": []
          },
          "execution_count": 37
        }
      ]
    },
    {
      "cell_type": "code",
      "metadata": {
        "id": "ciTB7ZifG7Cs",
        "colab_type": "code",
        "colab": {
          "base_uri": "https://localhost:8080/",
          "height": 35
        },
        "outputId": "f5f3755f-d508-4bc4-d3b0-905bb49f6810"
      },
      "source": [
        "# Removing the extract dimensions from the tensor\n",
        "_extensor.squeeze(0).shape"
      ],
      "execution_count": 39,
      "outputs": [
        {
          "output_type": "execute_result",
          "data": {
            "text/plain": [
              "torch.Size([3, 3])"
            ]
          },
          "metadata": {
            "tags": []
          },
          "execution_count": 39
        }
      ]
    },
    {
      "cell_type": "code",
      "metadata": {
        "id": "gATKpAyHHLH3",
        "colab_type": "code",
        "colab": {}
      },
      "source": [
        "# Random tensor of shape 5, 3 in  the interval [3,7]\n",
        "\n",
        "rand_tensor  = torch.empty(5, 3).uniform_(3, 7)"
      ],
      "execution_count": 0,
      "outputs": []
    },
    {
      "cell_type": "code",
      "metadata": {
        "id": "5i32iuPMHy-d",
        "colab_type": "code",
        "colab": {
          "base_uri": "https://localhost:8080/",
          "height": 106
        },
        "outputId": "381f3039-4f9a-4210-b44a-278318a862ee"
      },
      "source": [
        "rand_tensor"
      ],
      "execution_count": 44,
      "outputs": [
        {
          "output_type": "execute_result",
          "data": {
            "text/plain": [
              "tensor([[5.8086, 3.7631, 4.5647],\n",
              "        [5.9195, 6.5422, 6.2919],\n",
              "        [5.9762, 6.2503, 4.6610],\n",
              "        [3.4079, 6.3393, 3.3854],\n",
              "        [5.1695, 4.0936, 5.4401]])"
            ]
          },
          "metadata": {
            "tags": []
          },
          "execution_count": 44
        }
      ]
    },
    {
      "cell_type": "code",
      "metadata": {
        "id": "ZokVbh8yLXJ_",
        "colab_type": "code",
        "colab": {
          "base_uri": "https://localhost:8080/",
          "height": 106
        },
        "outputId": "843e9e04-ce73-4658-98b6-9312b36d6ac8"
      },
      "source": [
        "torch.randint(3, 7, (5,3))"
      ],
      "execution_count": 45,
      "outputs": [
        {
          "output_type": "execute_result",
          "data": {
            "text/plain": [
              "tensor([[3, 4, 3],\n",
              "        [6, 4, 3],\n",
              "        [6, 3, 6],\n",
              "        [5, 4, 6],\n",
              "        [5, 4, 4]])"
            ]
          },
          "metadata": {
            "tags": []
          },
          "execution_count": 45
        }
      ]
    },
    {
      "cell_type": "code",
      "metadata": {
        "id": "PzUFZOiwMGua",
        "colab_type": "code",
        "colab": {
          "base_uri": "https://localhost:8080/",
          "height": 167
        },
        "outputId": "fab3f1a2-e35d-43a7-c4c1-e3d9cf39ef8c"
      },
      "source": [
        "torch.empty(5, 3).randint_(3, 7)"
      ],
      "execution_count": 49,
      "outputs": [
        {
          "output_type": "error",
          "ename": "AttributeError",
          "evalue": "ignored",
          "traceback": [
            "\u001b[0;31m---------------------------------------------------------------------------\u001b[0m",
            "\u001b[0;31mAttributeError\u001b[0m                            Traceback (most recent call last)",
            "\u001b[0;32m<ipython-input-49-a61a324abc47>\u001b[0m in \u001b[0;36m<module>\u001b[0;34m()\u001b[0m\n\u001b[0;32m----> 1\u001b[0;31m \u001b[0mtorch\u001b[0m\u001b[0;34m.\u001b[0m\u001b[0mempty\u001b[0m\u001b[0;34m(\u001b[0m\u001b[0;36m5\u001b[0m\u001b[0;34m,\u001b[0m \u001b[0;36m3\u001b[0m\u001b[0;34m)\u001b[0m\u001b[0;34m.\u001b[0m\u001b[0mrandint_\u001b[0m\u001b[0;34m(\u001b[0m\u001b[0;36m3\u001b[0m\u001b[0;34m,\u001b[0m \u001b[0;36m7\u001b[0m\u001b[0;34m)\u001b[0m\u001b[0;34m\u001b[0m\u001b[0;34m\u001b[0m\u001b[0m\n\u001b[0m",
            "\u001b[0;31mAttributeError\u001b[0m: 'Tensor' object has no attribute 'randint_'"
          ]
        }
      ]
    },
    {
      "cell_type": "code",
      "metadata": {
        "id": "-uNRuXtjMTMn",
        "colab_type": "code",
        "colab": {
          "base_uri": "https://localhost:8080/",
          "height": 530
        },
        "outputId": "859056a1-977c-4b40-9ae9-01e18e0d67e8"
      },
      "source": [
        "dir(torch.empty)"
      ],
      "execution_count": 48,
      "outputs": [
        {
          "output_type": "execute_result",
          "data": {
            "text/plain": [
              "['__call__',\n",
              " '__class__',\n",
              " '__delattr__',\n",
              " '__dir__',\n",
              " '__doc__',\n",
              " '__eq__',\n",
              " '__format__',\n",
              " '__ge__',\n",
              " '__getattribute__',\n",
              " '__gt__',\n",
              " '__hash__',\n",
              " '__init__',\n",
              " '__init_subclass__',\n",
              " '__le__',\n",
              " '__lt__',\n",
              " '__module__',\n",
              " '__name__',\n",
              " '__ne__',\n",
              " '__new__',\n",
              " '__qualname__',\n",
              " '__reduce__',\n",
              " '__reduce_ex__',\n",
              " '__repr__',\n",
              " '__self__',\n",
              " '__setattr__',\n",
              " '__sizeof__',\n",
              " '__str__',\n",
              " '__subclasshook__',\n",
              " '__text_signature__']"
            ]
          },
          "metadata": {
            "tags": []
          },
          "execution_count": 48
        }
      ]
    },
    {
      "cell_type": "code",
      "metadata": {
        "id": "7URuc8W2MkjB",
        "colab_type": "code",
        "colab": {
          "base_uri": "https://localhost:8080/",
          "height": 106
        },
        "outputId": "f292f300-14b9-46fa-9df4-ff7cbb9077cf"
      },
      "source": [
        "torch.empty(5, 3).normal_(mean=0, std=1)"
      ],
      "execution_count": 58,
      "outputs": [
        {
          "output_type": "execute_result",
          "data": {
            "text/plain": [
              "tensor([[-1.2599, -0.7492, -0.9959],\n",
              "        [ 0.2315,  1.0094,  0.8253],\n",
              "        [-0.4922,  0.7762, -0.2430],\n",
              "        [-0.4340, -0.2243, -1.4335],\n",
              "        [ 1.0951,  2.0344,  0.9591]])"
            ]
          },
          "metadata": {
            "tags": []
          },
          "execution_count": 58
        }
      ]
    },
    {
      "cell_type": "code",
      "metadata": {
        "id": "zmSw62OpNAuh",
        "colab_type": "code",
        "colab": {
          "base_uri": "https://localhost:8080/",
          "height": 106
        },
        "outputId": "d01ad96a-8b56-445f-814b-62b553296b93"
      },
      "source": [
        "3 + torch.rand(5, 3 ) * (7-3)"
      ],
      "execution_count": 59,
      "outputs": [
        {
          "output_type": "execute_result",
          "data": {
            "text/plain": [
              "tensor([[3.9274, 3.1734, 3.5356],\n",
              "        [6.9964, 3.6619, 5.8608],\n",
              "        [3.9700, 4.1565, 4.5244],\n",
              "        [6.7438, 5.1592, 6.3118],\n",
              "        [4.3790, 4.7106, 6.1055]])"
            ]
          },
          "metadata": {
            "tags": []
          },
          "execution_count": 59
        }
      ]
    },
    {
      "cell_type": "code",
      "metadata": {
        "id": "ggnD7m0tNGR2",
        "colab_type": "code",
        "colab": {}
      },
      "source": [
        "a = torch.Tensor([1, 1, 1, 0, 1])"
      ],
      "execution_count": 0,
      "outputs": []
    },
    {
      "cell_type": "code",
      "metadata": {
        "id": "9zlWyZ6QP3v_",
        "colab_type": "code",
        "colab": {
          "base_uri": "https://localhost:8080/",
          "height": 35
        },
        "outputId": "3a31a87b-e33d-4a24-84ec-c421f28b51a5"
      },
      "source": [
        "[ i for i in range(5) if a[i] !=0 ]"
      ],
      "execution_count": 72,
      "outputs": [
        {
          "output_type": "execute_result",
          "data": {
            "text/plain": [
              "[0, 1, 2, 4]"
            ]
          },
          "metadata": {
            "tags": []
          },
          "execution_count": 72
        }
      ]
    },
    {
      "cell_type": "code",
      "metadata": {
        "id": "FJoj7U9ZP6Um",
        "colab_type": "code",
        "colab": {
          "base_uri": "https://localhost:8080/",
          "height": 88
        },
        "outputId": "643bf25f-1697-44ef-d7bf-ec9c0e3bf5e5"
      },
      "source": [
        "a.nonzero()"
      ],
      "execution_count": 76,
      "outputs": [
        {
          "output_type": "execute_result",
          "data": {
            "text/plain": [
              "tensor([[0],\n",
              "        [1],\n",
              "        [2],\n",
              "        [4]])"
            ]
          },
          "metadata": {
            "tags": []
          },
          "execution_count": 76
        }
      ]
    },
    {
      "cell_type": "code",
      "metadata": {
        "id": "w6vWutj3P84V",
        "colab_type": "code",
        "colab": {}
      },
      "source": [
        "x= 4 + torch.rand(5, 5) * (6)"
      ],
      "execution_count": 0,
      "outputs": []
    },
    {
      "cell_type": "code",
      "metadata": {
        "id": "lYgCUYSTP-uk",
        "colab_type": "code",
        "colab": {
          "base_uri": "https://localhost:8080/",
          "height": 283
        },
        "outputId": "6a5543f4-fb8e-4b17-a49f-a9f145c269a0"
      },
      "source": [
        "torch.cat((x, x, x, x), 0)"
      ],
      "execution_count": 91,
      "outputs": [
        {
          "output_type": "execute_result",
          "data": {
            "text/plain": [
              "tensor([[9.1092, 5.2545, 9.9139, 5.2454, 7.8299, 9.1092, 5.2545, 9.9139, 5.2454,\n",
              "         7.8299, 9.1092, 5.2545, 9.9139, 5.2454, 7.8299, 9.1092, 5.2545, 9.9139,\n",
              "         5.2454, 7.8299],\n",
              "        [6.2991, 7.9085, 8.7123, 5.6051, 5.3374, 6.2991, 7.9085, 8.7123, 5.6051,\n",
              "         5.3374, 6.2991, 7.9085, 8.7123, 5.6051, 5.3374, 6.2991, 7.9085, 8.7123,\n",
              "         5.6051, 5.3374],\n",
              "        [7.6431, 7.0454, 6.6620, 9.5377, 8.5121, 7.6431, 7.0454, 6.6620, 9.5377,\n",
              "         8.5121, 7.6431, 7.0454, 6.6620, 9.5377, 8.5121, 7.6431, 7.0454, 6.6620,\n",
              "         9.5377, 8.5121],\n",
              "        [4.2095, 6.8091, 6.0345, 6.0277, 6.1825, 4.2095, 6.8091, 6.0345, 6.0277,\n",
              "         6.1825, 4.2095, 6.8091, 6.0345, 6.0277, 6.1825, 4.2095, 6.8091, 6.0345,\n",
              "         6.0277, 6.1825],\n",
              "        [4.4425, 7.0762, 5.3767, 6.1046, 8.4924, 4.4425, 7.0762, 5.3767, 6.1046,\n",
              "         8.4924, 4.4425, 7.0762, 5.3767, 6.1046, 8.4924, 4.4425, 7.0762, 5.3767,\n",
              "         6.1046, 8.4924]])"
            ]
          },
          "metadata": {
            "tags": []
          },
          "execution_count": 91
        }
      ]
    },
    {
      "cell_type": "code",
      "metadata": {
        "id": "kUZIHLEzR6I7",
        "colab_type": "code",
        "colab": {}
      },
      "source": [
        "a = torch.rand(3, 4, 5)\n",
        "b = torch.rand(3, 5, 4)"
      ],
      "execution_count": 0,
      "outputs": []
    },
    {
      "cell_type": "code",
      "metadata": {
        "id": "HipQ4bbDTkEi",
        "colab_type": "code",
        "colab": {
          "base_uri": "https://localhost:8080/",
          "height": 265
        },
        "outputId": "51f3b17e-de15-47c3-ffb2-f865a208ff93"
      },
      "source": [
        "torch.bmm(a,b)"
      ],
      "execution_count": 87,
      "outputs": [
        {
          "output_type": "execute_result",
          "data": {
            "text/plain": [
              "tensor([[[0.4901, 0.7919, 0.5413, 1.2567],\n",
              "         [0.6061, 0.8541, 0.5283, 1.4932],\n",
              "         [0.7739, 1.1959, 0.7391, 1.8891],\n",
              "         [0.7969, 1.0035, 0.7961, 1.3342]],\n",
              "\n",
              "        [[0.5075, 1.5099, 1.2392, 0.9318],\n",
              "         [0.6146, 1.7093, 1.0678, 1.0518],\n",
              "         [0.4724, 1.7962, 1.2491, 1.3030],\n",
              "         [0.4284, 1.6345, 0.5278, 1.0579]],\n",
              "\n",
              "        [[1.2311, 1.6305, 2.3543, 1.3953],\n",
              "         [2.1855, 2.3157, 3.0379, 1.5737],\n",
              "         [1.2467, 1.5730, 2.1306, 0.8722],\n",
              "         [1.0026, 1.3194, 1.9722, 1.4197]]])"
            ]
          },
          "metadata": {
            "tags": []
          },
          "execution_count": 87
        }
      ]
    },
    {
      "cell_type": "code",
      "metadata": {
        "id": "KnqqWaVsTvmD",
        "colab_type": "code",
        "colab": {
          "base_uri": "https://localhost:8080/",
          "height": 187
        },
        "outputId": "b07c11fb-f911-46ff-8a78-9ddca43af8d0"
      },
      "source": [
        "x.expand(5, 20)"
      ],
      "execution_count": 90,
      "outputs": [
        {
          "output_type": "error",
          "ename": "RuntimeError",
          "evalue": "ignored",
          "traceback": [
            "\u001b[0;31m---------------------------------------------------------------------------\u001b[0m",
            "\u001b[0;31mRuntimeError\u001b[0m                              Traceback (most recent call last)",
            "\u001b[0;32m<ipython-input-90-555b631615b1>\u001b[0m in \u001b[0;36m<module>\u001b[0;34m()\u001b[0m\n\u001b[0;32m----> 1\u001b[0;31m \u001b[0mx\u001b[0m\u001b[0;34m.\u001b[0m\u001b[0mexpand\u001b[0m\u001b[0;34m(\u001b[0m\u001b[0;36m5\u001b[0m\u001b[0;34m,\u001b[0m \u001b[0;36m20\u001b[0m\u001b[0;34m)\u001b[0m\u001b[0;34m\u001b[0m\u001b[0;34m\u001b[0m\u001b[0m\n\u001b[0m",
            "\u001b[0;31mRuntimeError\u001b[0m: The expanded size of the tensor (20) must match the existing size (5) at non-singleton dimension 1.  Target sizes: [5, 20].  Tensor sizes: [5, 5]"
          ]
        }
      ]
    },
    {
      "cell_type": "code",
      "metadata": {
        "id": "PYx8SbRYUHx1",
        "colab_type": "code",
        "colab": {}
      },
      "source": [
        ""
      ],
      "execution_count": 0,
      "outputs": []
    }
  ]
}